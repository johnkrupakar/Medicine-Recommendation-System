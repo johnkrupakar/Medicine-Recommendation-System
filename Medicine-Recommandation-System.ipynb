{
 "cells": [
  {
   "cell_type": "code",
   "execution_count": 1,
   "id": "5c48780e-3b2f-41db-9203-18b1e9358773",
   "metadata": {},
   "outputs": [],
   "source": [
    "import pandas as pd \n",
    "import numpy as np "
   ]
  },
  {
   "cell_type": "code",
   "execution_count": 2,
   "id": "378af6f9-f55c-4f47-9110-ba4f8add09d7",
   "metadata": {},
   "outputs": [],
   "source": [
    "df = pd.read_csv('medicine.csv')"
   ]
  },
  {
   "cell_type": "code",
   "execution_count": 3,
   "id": "51c1795a-e83a-41e5-a55a-7d97d6e4aaa2",
   "metadata": {},
   "outputs": [
    {
     "data": {
      "text/html": [
       "<div>\n",
       "<style scoped>\n",
       "    .dataframe tbody tr th:only-of-type {\n",
       "        vertical-align: middle;\n",
       "    }\n",
       "\n",
       "    .dataframe tbody tr th {\n",
       "        vertical-align: top;\n",
       "    }\n",
       "\n",
       "    .dataframe thead th {\n",
       "        text-align: right;\n",
       "    }\n",
       "</style>\n",
       "<table border=\"1\" class=\"dataframe\">\n",
       "  <thead>\n",
       "    <tr style=\"text-align: right;\">\n",
       "      <th></th>\n",
       "      <th>index</th>\n",
       "      <th>Drug_Name</th>\n",
       "      <th>Reason</th>\n",
       "      <th>Description</th>\n",
       "    </tr>\n",
       "  </thead>\n",
       "  <tbody>\n",
       "    <tr>\n",
       "      <th>0</th>\n",
       "      <td>1</td>\n",
       "      <td>A CN Gel(Topical) 20gmA CN Soap 75gm</td>\n",
       "      <td>Acne</td>\n",
       "      <td>Mild to moderate acne (spots)</td>\n",
       "    </tr>\n",
       "    <tr>\n",
       "      <th>1</th>\n",
       "      <td>2</td>\n",
       "      <td>A Ret 0.05% Gel 20gmA Ret 0.1% Gel 20gmA Ret 0...</td>\n",
       "      <td>Acne</td>\n",
       "      <td>A RET 0.025% is a prescription medicine that i...</td>\n",
       "    </tr>\n",
       "    <tr>\n",
       "      <th>2</th>\n",
       "      <td>3</td>\n",
       "      <td>ACGEL CL NANO Gel 15gm</td>\n",
       "      <td>Acne</td>\n",
       "      <td>It is used to treat acne vulgaris in people 12...</td>\n",
       "    </tr>\n",
       "    <tr>\n",
       "      <th>3</th>\n",
       "      <td>4</td>\n",
       "      <td>ACGEL NANO Gel 15gm</td>\n",
       "      <td>Acne</td>\n",
       "      <td>It is used to treat acne vulgaris in people 12...</td>\n",
       "    </tr>\n",
       "    <tr>\n",
       "      <th>4</th>\n",
       "      <td>5</td>\n",
       "      <td>Acleen 1% Lotion 25ml</td>\n",
       "      <td>Acne</td>\n",
       "      <td>treat the most severe form of acne (nodular ac...</td>\n",
       "    </tr>\n",
       "  </tbody>\n",
       "</table>\n",
       "</div>"
      ],
      "text/plain": [
       "   index                                          Drug_Name Reason  \\\n",
       "0      1               A CN Gel(Topical) 20gmA CN Soap 75gm   Acne   \n",
       "1      2  A Ret 0.05% Gel 20gmA Ret 0.1% Gel 20gmA Ret 0...   Acne   \n",
       "2      3                             ACGEL CL NANO Gel 15gm   Acne   \n",
       "3      4                                ACGEL NANO Gel 15gm   Acne   \n",
       "4      5                              Acleen 1% Lotion 25ml   Acne   \n",
       "\n",
       "                                         Description  \n",
       "0                      Mild to moderate acne (spots)  \n",
       "1  A RET 0.025% is a prescription medicine that i...  \n",
       "2  It is used to treat acne vulgaris in people 12...  \n",
       "3  It is used to treat acne vulgaris in people 12...  \n",
       "4  treat the most severe form of acne (nodular ac...  "
      ]
     },
     "execution_count": 3,
     "metadata": {},
     "output_type": "execute_result"
    }
   ],
   "source": [
    "df.head()"
   ]
  },
  {
   "cell_type": "code",
   "execution_count": 4,
   "id": "1296a7ad-7a6b-4837-816e-606d94e74fa3",
   "metadata": {},
   "outputs": [
    {
     "data": {
      "text/plain": [
       "(9720, 4)"
      ]
     },
     "execution_count": 4,
     "metadata": {},
     "output_type": "execute_result"
    }
   ],
   "source": [
    "df.shape"
   ]
  },
  {
   "cell_type": "code",
   "execution_count": 5,
   "id": "66a9c977-d157-4e5a-a96b-14878fce08b6",
   "metadata": {},
   "outputs": [
    {
     "data": {
      "text/plain": [
       "index          0\n",
       "Drug_Name      0\n",
       "Reason         0\n",
       "Description    0\n",
       "dtype: int64"
      ]
     },
     "execution_count": 5,
     "metadata": {},
     "output_type": "execute_result"
    }
   ],
   "source": [
    "df.isnull().sum()"
   ]
  },
  {
   "cell_type": "code",
   "execution_count": 6,
   "id": "99ee270b-3ec0-4999-a72e-c0aba86ecc69",
   "metadata": {},
   "outputs": [],
   "source": [
    "df.dropna(inplace=True)"
   ]
  },
  {
   "cell_type": "code",
   "execution_count": 7,
   "id": "f6960ed9-668d-4a56-9ba2-39217c0aeafe",
   "metadata": {},
   "outputs": [
    {
     "data": {
      "text/plain": [
       "0"
      ]
     },
     "execution_count": 7,
     "metadata": {},
     "output_type": "execute_result"
    }
   ],
   "source": [
    "df.duplicated().sum()"
   ]
  },
  {
   "cell_type": "code",
   "execution_count": 8,
   "id": "50eaa8e7-51c8-4990-bdc1-855037092a92",
   "metadata": {},
   "outputs": [
    {
     "name": "stdout",
     "output_type": "stream",
     "text": [
      "<class 'pandas.core.frame.DataFrame'>\n",
      "RangeIndex: 9720 entries, 0 to 9719\n",
      "Data columns (total 4 columns):\n",
      " #   Column       Non-Null Count  Dtype \n",
      "---  ------       --------------  ----- \n",
      " 0   index        9720 non-null   int64 \n",
      " 1   Drug_Name    9720 non-null   object\n",
      " 2   Reason       9720 non-null   object\n",
      " 3   Description  9720 non-null   object\n",
      "dtypes: int64(1), object(3)\n",
      "memory usage: 303.9+ KB\n"
     ]
    }
   ],
   "source": [
    "df.info()"
   ]
  },
  {
   "cell_type": "code",
   "execution_count": 9,
   "id": "930c63db-8293-43f3-83a4-901022da6e08",
   "metadata": {},
   "outputs": [
    {
     "data": {
      "text/plain": [
       "0                           Mild to moderate acne (spots)\n",
       "1       A RET 0.025% is a prescription medicine that i...\n",
       "2       It is used to treat acne vulgaris in people 12...\n",
       "3       It is used to treat acne vulgaris in people 12...\n",
       "4       treat the most severe form of acne (nodular ac...\n",
       "                              ...                        \n",
       "9715                              used for treating warts\n",
       "9716                        used to soften the skin cells\n",
       "9717                                       used for scars\n",
       "9718                                      used for wounds\n",
       "9719    used to treat and remove raised warts (usually...\n",
       "Name: Description, Length: 9720, dtype: object"
      ]
     },
     "execution_count": 9,
     "metadata": {},
     "output_type": "execute_result"
    }
   ],
   "source": [
    "df['Description']"
   ]
  },
  {
   "cell_type": "code",
   "execution_count": 10,
   "id": "96b35495-0bc3-4554-addf-33ab23a6cff6",
   "metadata": {},
   "outputs": [],
   "source": [
    "df['Description'] = df['Description'].apply(lambda x : x.split())"
   ]
  },
  {
   "cell_type": "code",
   "execution_count": 11,
   "id": "a24b9d34-ebea-437a-b293-cd81382e9756",
   "metadata": {},
   "outputs": [],
   "source": [
    "df['Reason'] = df['Reason'].apply(lambda x : x.split())"
   ]
  },
  {
   "cell_type": "code",
   "execution_count": 12,
   "id": "4223b0f6-c44e-4cb3-a57b-bff760410759",
   "metadata": {},
   "outputs": [
    {
     "data": {
      "text/html": [
       "<div>\n",
       "<style scoped>\n",
       "    .dataframe tbody tr th:only-of-type {\n",
       "        vertical-align: middle;\n",
       "    }\n",
       "\n",
       "    .dataframe tbody tr th {\n",
       "        vertical-align: top;\n",
       "    }\n",
       "\n",
       "    .dataframe thead th {\n",
       "        text-align: right;\n",
       "    }\n",
       "</style>\n",
       "<table border=\"1\" class=\"dataframe\">\n",
       "  <thead>\n",
       "    <tr style=\"text-align: right;\">\n",
       "      <th></th>\n",
       "      <th>index</th>\n",
       "      <th>Drug_Name</th>\n",
       "      <th>Reason</th>\n",
       "      <th>Description</th>\n",
       "    </tr>\n",
       "  </thead>\n",
       "  <tbody>\n",
       "    <tr>\n",
       "      <th>0</th>\n",
       "      <td>1</td>\n",
       "      <td>A CN Gel(Topical) 20gmA CN Soap 75gm</td>\n",
       "      <td>[Acne]</td>\n",
       "      <td>[Mild, to, moderate, acne, (spots)]</td>\n",
       "    </tr>\n",
       "    <tr>\n",
       "      <th>1</th>\n",
       "      <td>2</td>\n",
       "      <td>A Ret 0.05% Gel 20gmA Ret 0.1% Gel 20gmA Ret 0...</td>\n",
       "      <td>[Acne]</td>\n",
       "      <td>[A, RET, 0.025%, is, a, prescription, medicine...</td>\n",
       "    </tr>\n",
       "    <tr>\n",
       "      <th>2</th>\n",
       "      <td>3</td>\n",
       "      <td>ACGEL CL NANO Gel 15gm</td>\n",
       "      <td>[Acne]</td>\n",
       "      <td>[It, is, used, to, treat, acne, vulgaris, in, ...</td>\n",
       "    </tr>\n",
       "    <tr>\n",
       "      <th>3</th>\n",
       "      <td>4</td>\n",
       "      <td>ACGEL NANO Gel 15gm</td>\n",
       "      <td>[Acne]</td>\n",
       "      <td>[It, is, used, to, treat, acne, vulgaris, in, ...</td>\n",
       "    </tr>\n",
       "    <tr>\n",
       "      <th>4</th>\n",
       "      <td>5</td>\n",
       "      <td>Acleen 1% Lotion 25ml</td>\n",
       "      <td>[Acne]</td>\n",
       "      <td>[treat, the, most, severe, form, of, acne, (no...</td>\n",
       "    </tr>\n",
       "  </tbody>\n",
       "</table>\n",
       "</div>"
      ],
      "text/plain": [
       "   index                                          Drug_Name  Reason  \\\n",
       "0      1               A CN Gel(Topical) 20gmA CN Soap 75gm  [Acne]   \n",
       "1      2  A Ret 0.05% Gel 20gmA Ret 0.1% Gel 20gmA Ret 0...  [Acne]   \n",
       "2      3                             ACGEL CL NANO Gel 15gm  [Acne]   \n",
       "3      4                                ACGEL NANO Gel 15gm  [Acne]   \n",
       "4      5                              Acleen 1% Lotion 25ml  [Acne]   \n",
       "\n",
       "                                         Description  \n",
       "0                [Mild, to, moderate, acne, (spots)]  \n",
       "1  [A, RET, 0.025%, is, a, prescription, medicine...  \n",
       "2  [It, is, used, to, treat, acne, vulgaris, in, ...  \n",
       "3  [It, is, used, to, treat, acne, vulgaris, in, ...  \n",
       "4  [treat, the, most, severe, form, of, acne, (no...  "
      ]
     },
     "execution_count": 12,
     "metadata": {},
     "output_type": "execute_result"
    }
   ],
   "source": [
    "df.head()"
   ]
  },
  {
   "cell_type": "code",
   "execution_count": 27,
   "id": "82072d4c-ace1-43ca-9482-065df802fb76",
   "metadata": {},
   "outputs": [],
   "source": [
    "df['Description'] = df['Description'].apply(lambda x : [i.replace(\" \",\"\") for i in x])"
   ]
  },
  {
   "cell_type": "code",
   "execution_count": 29,
   "id": "444ca041-19b5-48ac-a6c6-6db9ae007a72",
   "metadata": {},
   "outputs": [],
   "source": [
    "df['tags'] = df['Description'] + df['Reason']"
   ]
  },
  {
   "cell_type": "code",
   "execution_count": 31,
   "id": "a8286c2f-bd3d-46c3-9017-808f7474d155",
   "metadata": {},
   "outputs": [
    {
     "data": {
      "text/html": [
       "<div>\n",
       "<style scoped>\n",
       "    .dataframe tbody tr th:only-of-type {\n",
       "        vertical-align: middle;\n",
       "    }\n",
       "\n",
       "    .dataframe tbody tr th {\n",
       "        vertical-align: top;\n",
       "    }\n",
       "\n",
       "    .dataframe thead th {\n",
       "        text-align: right;\n",
       "    }\n",
       "</style>\n",
       "<table border=\"1\" class=\"dataframe\">\n",
       "  <thead>\n",
       "    <tr style=\"text-align: right;\">\n",
       "      <th></th>\n",
       "      <th>index</th>\n",
       "      <th>Drug_Name</th>\n",
       "      <th>Reason</th>\n",
       "      <th>Description</th>\n",
       "      <th>tags</th>\n",
       "    </tr>\n",
       "  </thead>\n",
       "  <tbody>\n",
       "    <tr>\n",
       "      <th>0</th>\n",
       "      <td>1</td>\n",
       "      <td>A CN Gel(Topical) 20gmA CN Soap 75gm</td>\n",
       "      <td>[Acne]</td>\n",
       "      <td>[Mild, to, moderate, acne, (spots)]</td>\n",
       "      <td>[Mild, to, moderate, acne, (spots), Acne]</td>\n",
       "    </tr>\n",
       "    <tr>\n",
       "      <th>1</th>\n",
       "      <td>2</td>\n",
       "      <td>A Ret 0.05% Gel 20gmA Ret 0.1% Gel 20gmA Ret 0...</td>\n",
       "      <td>[Acne]</td>\n",
       "      <td>[A, RET, 0.025%, is, a, prescription, medicine...</td>\n",
       "      <td>[A, RET, 0.025%, is, a, prescription, medicine...</td>\n",
       "    </tr>\n",
       "    <tr>\n",
       "      <th>2</th>\n",
       "      <td>3</td>\n",
       "      <td>ACGEL CL NANO Gel 15gm</td>\n",
       "      <td>[Acne]</td>\n",
       "      <td>[It, is, used, to, treat, acne, vulgaris, in, ...</td>\n",
       "      <td>[It, is, used, to, treat, acne, vulgaris, in, ...</td>\n",
       "    </tr>\n",
       "    <tr>\n",
       "      <th>3</th>\n",
       "      <td>4</td>\n",
       "      <td>ACGEL NANO Gel 15gm</td>\n",
       "      <td>[Acne]</td>\n",
       "      <td>[It, is, used, to, treat, acne, vulgaris, in, ...</td>\n",
       "      <td>[It, is, used, to, treat, acne, vulgaris, in, ...</td>\n",
       "    </tr>\n",
       "    <tr>\n",
       "      <th>4</th>\n",
       "      <td>5</td>\n",
       "      <td>Acleen 1% Lotion 25ml</td>\n",
       "      <td>[Acne]</td>\n",
       "      <td>[treat, the, most, severe, form, of, acne, (no...</td>\n",
       "      <td>[treat, the, most, severe, form, of, acne, (no...</td>\n",
       "    </tr>\n",
       "  </tbody>\n",
       "</table>\n",
       "</div>"
      ],
      "text/plain": [
       "   index                                          Drug_Name  Reason  \\\n",
       "0      1               A CN Gel(Topical) 20gmA CN Soap 75gm  [Acne]   \n",
       "1      2  A Ret 0.05% Gel 20gmA Ret 0.1% Gel 20gmA Ret 0...  [Acne]   \n",
       "2      3                             ACGEL CL NANO Gel 15gm  [Acne]   \n",
       "3      4                                ACGEL NANO Gel 15gm  [Acne]   \n",
       "4      5                              Acleen 1% Lotion 25ml  [Acne]   \n",
       "\n",
       "                                         Description  \\\n",
       "0                [Mild, to, moderate, acne, (spots)]   \n",
       "1  [A, RET, 0.025%, is, a, prescription, medicine...   \n",
       "2  [It, is, used, to, treat, acne, vulgaris, in, ...   \n",
       "3  [It, is, used, to, treat, acne, vulgaris, in, ...   \n",
       "4  [treat, the, most, severe, form, of, acne, (no...   \n",
       "\n",
       "                                                tags  \n",
       "0          [Mild, to, moderate, acne, (spots), Acne]  \n",
       "1  [A, RET, 0.025%, is, a, prescription, medicine...  \n",
       "2  [It, is, used, to, treat, acne, vulgaris, in, ...  \n",
       "3  [It, is, used, to, treat, acne, vulgaris, in, ...  \n",
       "4  [treat, the, most, severe, form, of, acne, (no...  "
      ]
     },
     "execution_count": 31,
     "metadata": {},
     "output_type": "execute_result"
    }
   ],
   "source": [
    "df.head()"
   ]
  },
  {
   "cell_type": "code",
   "execution_count": 33,
   "id": "c151fd6d-c974-48a1-85bb-d2f5ae338480",
   "metadata": {},
   "outputs": [],
   "source": [
    "new_data = df[['index','Drug_Name','tags']]"
   ]
  },
  {
   "cell_type": "code",
   "execution_count": 35,
   "id": "5880cb4a-ad43-4457-b2de-86ff97f2a749",
   "metadata": {},
   "outputs": [
    {
     "data": {
      "text/html": [
       "<div>\n",
       "<style scoped>\n",
       "    .dataframe tbody tr th:only-of-type {\n",
       "        vertical-align: middle;\n",
       "    }\n",
       "\n",
       "    .dataframe tbody tr th {\n",
       "        vertical-align: top;\n",
       "    }\n",
       "\n",
       "    .dataframe thead th {\n",
       "        text-align: right;\n",
       "    }\n",
       "</style>\n",
       "<table border=\"1\" class=\"dataframe\">\n",
       "  <thead>\n",
       "    <tr style=\"text-align: right;\">\n",
       "      <th></th>\n",
       "      <th>index</th>\n",
       "      <th>Drug_Name</th>\n",
       "      <th>tags</th>\n",
       "    </tr>\n",
       "  </thead>\n",
       "  <tbody>\n",
       "    <tr>\n",
       "      <th>0</th>\n",
       "      <td>1</td>\n",
       "      <td>A CN Gel(Topical) 20gmA CN Soap 75gm</td>\n",
       "      <td>[Mild, to, moderate, acne, (spots), Acne]</td>\n",
       "    </tr>\n",
       "    <tr>\n",
       "      <th>1</th>\n",
       "      <td>2</td>\n",
       "      <td>A Ret 0.05% Gel 20gmA Ret 0.1% Gel 20gmA Ret 0...</td>\n",
       "      <td>[A, RET, 0.025%, is, a, prescription, medicine...</td>\n",
       "    </tr>\n",
       "    <tr>\n",
       "      <th>2</th>\n",
       "      <td>3</td>\n",
       "      <td>ACGEL CL NANO Gel 15gm</td>\n",
       "      <td>[It, is, used, to, treat, acne, vulgaris, in, ...</td>\n",
       "    </tr>\n",
       "    <tr>\n",
       "      <th>3</th>\n",
       "      <td>4</td>\n",
       "      <td>ACGEL NANO Gel 15gm</td>\n",
       "      <td>[It, is, used, to, treat, acne, vulgaris, in, ...</td>\n",
       "    </tr>\n",
       "    <tr>\n",
       "      <th>4</th>\n",
       "      <td>5</td>\n",
       "      <td>Acleen 1% Lotion 25ml</td>\n",
       "      <td>[treat, the, most, severe, form, of, acne, (no...</td>\n",
       "    </tr>\n",
       "  </tbody>\n",
       "</table>\n",
       "</div>"
      ],
      "text/plain": [
       "   index                                          Drug_Name  \\\n",
       "0      1               A CN Gel(Topical) 20gmA CN Soap 75gm   \n",
       "1      2  A Ret 0.05% Gel 20gmA Ret 0.1% Gel 20gmA Ret 0...   \n",
       "2      3                             ACGEL CL NANO Gel 15gm   \n",
       "3      4                                ACGEL NANO Gel 15gm   \n",
       "4      5                              Acleen 1% Lotion 25ml   \n",
       "\n",
       "                                                tags  \n",
       "0          [Mild, to, moderate, acne, (spots), Acne]  \n",
       "1  [A, RET, 0.025%, is, a, prescription, medicine...  \n",
       "2  [It, is, used, to, treat, acne, vulgaris, in, ...  \n",
       "3  [It, is, used, to, treat, acne, vulgaris, in, ...  \n",
       "4  [treat, the, most, severe, form, of, acne, (no...  "
      ]
     },
     "execution_count": 35,
     "metadata": {},
     "output_type": "execute_result"
    }
   ],
   "source": [
    "new_data.head()"
   ]
  },
  {
   "cell_type": "code",
   "execution_count": 37,
   "id": "caa8c05e-175a-4966-bcad-0fb4e262adf9",
   "metadata": {},
   "outputs": [
    {
     "name": "stderr",
     "output_type": "stream",
     "text": [
      "C:\\Users\\Nishanijohnkrupakar\\AppData\\Local\\Temp\\ipykernel_19532\\2019840365.py:1: SettingWithCopyWarning: \n",
      "A value is trying to be set on a copy of a slice from a DataFrame.\n",
      "Try using .loc[row_indexer,col_indexer] = value instead\n",
      "\n",
      "See the caveats in the documentation: https://pandas.pydata.org/pandas-docs/stable/user_guide/indexing.html#returning-a-view-versus-a-copy\n",
      "  new_data['tags'] = new_data['tags'].apply(lambda x : \" \".join(x))\n"
     ]
    }
   ],
   "source": [
    "new_data['tags'] = new_data['tags'].apply(lambda x : \" \".join(x))"
   ]
  },
  {
   "cell_type": "code",
   "execution_count": 39,
   "id": "700a1558-9cc4-4800-adf7-b07773414114",
   "metadata": {},
   "outputs": [
    {
     "name": "stderr",
     "output_type": "stream",
     "text": [
      "C:\\Users\\Nishanijohnkrupakar\\AppData\\Local\\Temp\\ipykernel_19532\\2556608214.py:1: SettingWithCopyWarning: \n",
      "A value is trying to be set on a copy of a slice from a DataFrame.\n",
      "Try using .loc[row_indexer,col_indexer] = value instead\n",
      "\n",
      "See the caveats in the documentation: https://pandas.pydata.org/pandas-docs/stable/user_guide/indexing.html#returning-a-view-versus-a-copy\n",
      "  new_data['tags'] = new_data['tags'].apply(lambda x : x.lower())\n"
     ]
    }
   ],
   "source": [
    "new_data['tags'] = new_data['tags'].apply(lambda x : x.lower()) "
   ]
  },
  {
   "cell_type": "code",
   "execution_count": 41,
   "id": "0747a72b-1dfd-4870-9a95-bf00498c3c22",
   "metadata": {},
   "outputs": [
    {
     "data": {
      "text/html": [
       "<div>\n",
       "<style scoped>\n",
       "    .dataframe tbody tr th:only-of-type {\n",
       "        vertical-align: middle;\n",
       "    }\n",
       "\n",
       "    .dataframe tbody tr th {\n",
       "        vertical-align: top;\n",
       "    }\n",
       "\n",
       "    .dataframe thead th {\n",
       "        text-align: right;\n",
       "    }\n",
       "</style>\n",
       "<table border=\"1\" class=\"dataframe\">\n",
       "  <thead>\n",
       "    <tr style=\"text-align: right;\">\n",
       "      <th></th>\n",
       "      <th>index</th>\n",
       "      <th>Drug_Name</th>\n",
       "      <th>tags</th>\n",
       "    </tr>\n",
       "  </thead>\n",
       "  <tbody>\n",
       "    <tr>\n",
       "      <th>0</th>\n",
       "      <td>1</td>\n",
       "      <td>A CN Gel(Topical) 20gmA CN Soap 75gm</td>\n",
       "      <td>mild to moderate acne (spots) acne</td>\n",
       "    </tr>\n",
       "    <tr>\n",
       "      <th>1</th>\n",
       "      <td>2</td>\n",
       "      <td>A Ret 0.05% Gel 20gmA Ret 0.1% Gel 20gmA Ret 0...</td>\n",
       "      <td>a ret 0.025% is a prescription medicine that i...</td>\n",
       "    </tr>\n",
       "    <tr>\n",
       "      <th>2</th>\n",
       "      <td>3</td>\n",
       "      <td>ACGEL CL NANO Gel 15gm</td>\n",
       "      <td>it is used to treat acne vulgaris in people 12...</td>\n",
       "    </tr>\n",
       "    <tr>\n",
       "      <th>3</th>\n",
       "      <td>4</td>\n",
       "      <td>ACGEL NANO Gel 15gm</td>\n",
       "      <td>it is used to treat acne vulgaris in people 12...</td>\n",
       "    </tr>\n",
       "    <tr>\n",
       "      <th>4</th>\n",
       "      <td>5</td>\n",
       "      <td>Acleen 1% Lotion 25ml</td>\n",
       "      <td>treat the most severe form of acne (nodular ac...</td>\n",
       "    </tr>\n",
       "  </tbody>\n",
       "</table>\n",
       "</div>"
      ],
      "text/plain": [
       "   index                                          Drug_Name  \\\n",
       "0      1               A CN Gel(Topical) 20gmA CN Soap 75gm   \n",
       "1      2  A Ret 0.05% Gel 20gmA Ret 0.1% Gel 20gmA Ret 0...   \n",
       "2      3                             ACGEL CL NANO Gel 15gm   \n",
       "3      4                                ACGEL NANO Gel 15gm   \n",
       "4      5                              Acleen 1% Lotion 25ml   \n",
       "\n",
       "                                                tags  \n",
       "0                 mild to moderate acne (spots) acne  \n",
       "1  a ret 0.025% is a prescription medicine that i...  \n",
       "2  it is used to treat acne vulgaris in people 12...  \n",
       "3  it is used to treat acne vulgaris in people 12...  \n",
       "4  treat the most severe form of acne (nodular ac...  "
      ]
     },
     "execution_count": 41,
     "metadata": {},
     "output_type": "execute_result"
    }
   ],
   "source": [
    "new_data.head()"
   ]
  },
  {
   "cell_type": "code",
   "execution_count": 43,
   "id": "0836405a-8bec-441f-a016-4643f06b550a",
   "metadata": {},
   "outputs": [],
   "source": [
    "import nltk\n",
    "from nltk.stem.porter import PorterStemmer\n",
    "ps = PorterStemmer()"
   ]
  },
  {
   "cell_type": "code",
   "execution_count": 45,
   "id": "33b27582-73e3-435d-9b0e-01bfaaa5e02c",
   "metadata": {},
   "outputs": [],
   "source": [
    "from sklearn.feature_extraction.text import CountVectorizer\n",
    "cv = CountVectorizer(stop_words='english', max_features=5000)"
   ]
  },
  {
   "cell_type": "code",
   "execution_count": 47,
   "id": "d95bd47b-5328-4d7c-acdf-ff272d38b307",
   "metadata": {},
   "outputs": [],
   "source": [
    "def stem(text):\n",
    "    y = []\n",
    "    for i in text.split():\n",
    "        y.append(ps.stem(i))\n",
    "    return \" \".join(y)"
   ]
  },
  {
   "cell_type": "code",
   "execution_count": 49,
   "id": "cb8a264b-13ab-44c8-ae58-e2e1d421f6b4",
   "metadata": {},
   "outputs": [
    {
     "data": {
      "text/plain": [
       "'you are so so beauti'"
      ]
     },
     "execution_count": 49,
     "metadata": {},
     "output_type": "execute_result"
    }
   ],
   "source": [
    "stem(\"You are so so beautiful\")"
   ]
  },
  {
   "cell_type": "code",
   "execution_count": 51,
   "id": "abb9a187-f924-40d2-9a6d-f28bedd3fc1c",
   "metadata": {},
   "outputs": [
    {
     "name": "stderr",
     "output_type": "stream",
     "text": [
      "C:\\Users\\Nishanijohnkrupakar\\AppData\\Local\\Temp\\ipykernel_19532\\1214595124.py:1: SettingWithCopyWarning: \n",
      "A value is trying to be set on a copy of a slice from a DataFrame.\n",
      "Try using .loc[row_indexer,col_indexer] = value instead\n",
      "\n",
      "See the caveats in the documentation: https://pandas.pydata.org/pandas-docs/stable/user_guide/indexing.html#returning-a-view-versus-a-copy\n",
      "  new_data['tags'] = new_data['tags'].apply(stem)\n"
     ]
    }
   ],
   "source": [
    "new_data['tags'] = new_data['tags'].apply(stem)"
   ]
  },
  {
   "cell_type": "code",
   "execution_count": 53,
   "id": "e2d2cccb-672c-45d7-af4a-5daccfcb69f3",
   "metadata": {},
   "outputs": [
    {
     "data": {
      "text/html": [
       "<div>\n",
       "<style scoped>\n",
       "    .dataframe tbody tr th:only-of-type {\n",
       "        vertical-align: middle;\n",
       "    }\n",
       "\n",
       "    .dataframe tbody tr th {\n",
       "        vertical-align: top;\n",
       "    }\n",
       "\n",
       "    .dataframe thead th {\n",
       "        text-align: right;\n",
       "    }\n",
       "</style>\n",
       "<table border=\"1\" class=\"dataframe\">\n",
       "  <thead>\n",
       "    <tr style=\"text-align: right;\">\n",
       "      <th></th>\n",
       "      <th>index</th>\n",
       "      <th>Drug_Name</th>\n",
       "      <th>tags</th>\n",
       "    </tr>\n",
       "  </thead>\n",
       "  <tbody>\n",
       "    <tr>\n",
       "      <th>0</th>\n",
       "      <td>1</td>\n",
       "      <td>A CN Gel(Topical) 20gmA CN Soap 75gm</td>\n",
       "      <td>mild to moder acn (spots) acn</td>\n",
       "    </tr>\n",
       "    <tr>\n",
       "      <th>1</th>\n",
       "      <td>2</td>\n",
       "      <td>A Ret 0.05% Gel 20gmA Ret 0.1% Gel 20gmA Ret 0...</td>\n",
       "      <td>a ret 0.025% is a prescript medicin that is us...</td>\n",
       "    </tr>\n",
       "    <tr>\n",
       "      <th>2</th>\n",
       "      <td>3</td>\n",
       "      <td>ACGEL CL NANO Gel 15gm</td>\n",
       "      <td>it is use to treat acn vulgari in peopl 12 yea...</td>\n",
       "    </tr>\n",
       "    <tr>\n",
       "      <th>3</th>\n",
       "      <td>4</td>\n",
       "      <td>ACGEL NANO Gel 15gm</td>\n",
       "      <td>it is use to treat acn vulgari in peopl 12 yea...</td>\n",
       "    </tr>\n",
       "    <tr>\n",
       "      <th>4</th>\n",
       "      <td>5</td>\n",
       "      <td>Acleen 1% Lotion 25ml</td>\n",
       "      <td>treat the most sever form of acn (nodular acne...</td>\n",
       "    </tr>\n",
       "  </tbody>\n",
       "</table>\n",
       "</div>"
      ],
      "text/plain": [
       "   index                                          Drug_Name  \\\n",
       "0      1               A CN Gel(Topical) 20gmA CN Soap 75gm   \n",
       "1      2  A Ret 0.05% Gel 20gmA Ret 0.1% Gel 20gmA Ret 0...   \n",
       "2      3                             ACGEL CL NANO Gel 15gm   \n",
       "3      4                                ACGEL NANO Gel 15gm   \n",
       "4      5                              Acleen 1% Lotion 25ml   \n",
       "\n",
       "                                                tags  \n",
       "0                      mild to moder acn (spots) acn  \n",
       "1  a ret 0.025% is a prescript medicin that is us...  \n",
       "2  it is use to treat acn vulgari in peopl 12 yea...  \n",
       "3  it is use to treat acn vulgari in peopl 12 yea...  \n",
       "4  treat the most sever form of acn (nodular acne...  "
      ]
     },
     "execution_count": 53,
     "metadata": {},
     "output_type": "execute_result"
    }
   ],
   "source": [
    "new_data.head()"
   ]
  },
  {
   "cell_type": "code",
   "execution_count": 57,
   "id": "7ed7e339-a518-4444-acd9-855f39d39742",
   "metadata": {},
   "outputs": [],
   "source": [
    "vectors = cv.fit_transform(new_data['tags']).toarray()"
   ]
  },
  {
   "cell_type": "code",
   "execution_count": 59,
   "id": "7ee08ff7-2dbd-496c-a646-5d9043eb9d6e",
   "metadata": {},
   "outputs": [
    {
     "data": {
      "text/plain": [
       "(9720, 806)"
      ]
     },
     "execution_count": 59,
     "metadata": {},
     "output_type": "execute_result"
    }
   ],
   "source": [
    "vectors.shape"
   ]
  },
  {
   "cell_type": "code",
   "execution_count": 61,
   "id": "244811bb-4b2a-4bdb-9637-6a99af894b46",
   "metadata": {},
   "outputs": [
    {
     "data": {
      "text/plain": [
       "array(['025', '12', '16', '18', 'abdomin', 'abl', 'ach', 'acid', 'acn',\n",
       "       'acne', 'acquir', 'action', 'activ', 'acut', 'acute', 'adequ',\n",
       "       'adhd', 'adjunct', 'adolesc', 'adult', 'adults', 'affect', 'ag',\n",
       "       'age', 'aids', 'allerg', 'allergen', 'allergi', 'allow', 'alon',\n",
       "       'alzheim', 'alzheimer', 'alzheimerâ', 'amoebiasi', 'anaemia',\n",
       "       'anal', 'angina', 'angl', 'ani', 'ankylos', 'anorexia', 'anoth',\n",
       "       'anti', 'antioxid', 'antipsychot', 'antiretrovir', 'anxieti',\n",
       "       'anxiou', 'anxious', 'apnoea', 'appear', 'appetit', 'appetite',\n",
       "       'appli', 'appropri', 'area', 'arrhythmia', 'arrhythmiasi',\n",
       "       'arteri', 'arthralgia', 'arthriti', 'associ', 'atherothrombot',\n",
       "       'athleteâ', 'atop', 'atrial', 'attack', 'awak', 'b1', 'b2', 'b3',\n",
       "       'b5', 'b6', 'babi', 'backache', 'bacteri', 'bacteria', 'balanc',\n",
       "       'balanitis', 'bandag', 'becom', 'behaviour', 'beliefs', 'benefit',\n",
       "       'beta', 'biliari', 'biotin', 'bite', 'blackhead', 'blackheads',\n",
       "       'bleaches', 'bleed', 'bloating', 'block', 'blood', 'bodi', 'bodyâ',\n",
       "       'bon', 'bone', 'bones', 'bowel', 'brain', 'breakdown', 'breath',\n",
       "       'brighten', 'bronchiti', 'brown', 'bursitis', 'calcium', 'calm',\n",
       "       'cancer', 'candid', 'candidiasis', 'canâ', 'carbohydr',\n",
       "       'cardiovascular', 'care', 'carrier', 'cartilag', 'case', 'cases',\n",
       "       'cataract', 'caus', 'cavity', 'cell', 'certain', 'chanc', 'chang',\n",
       "       'characteris', 'chemic', 'chemotherapi', 'chest', 'chickenpox',\n",
       "       'childhood', 'children', 'chlosma', 'cholesterol', 'chronic',\n",
       "       'clean', 'cleaner', 'cleanser', 'clear', 'clot', 'cmv', 'cold',\n",
       "       'colds', 'colic', 'colon', 'colorect', 'coma', 'combin', 'common',\n",
       "       'complet', 'complexion', 'concomit', 'condit', 'conditions',\n",
       "       'confused', 'confusion', 'congestion', 'conjunct', 'consciousness',\n",
       "       'consid', 'consist', 'constip', 'constipation', 'constipationâ',\n",
       "       'continu', 'contracept', 'control', 'contusion', 'convent',\n",
       "       'convulsion', 'corpori', 'corticosteroid', 'cough', 'cramp',\n",
       "       'cream', 'cruri', 'cushion', 'cycl', 'cytomegaloviru',\n",
       "       'cytoprotect', 'd3', 'daili', 'damag', 'dandruff', 'dark', 'death',\n",
       "       'decreas', 'defici', 'degrad', 'degre', 'delay', 'demand',\n",
       "       'dementia', 'dental', 'deposit', 'depress', 'depressed', 'dermat',\n",
       "       'deterg', 'diabet', 'diagnost', 'diarrhea', 'diarrhoea', 'diet',\n",
       "       'differ', 'difficult', 'difficulti', 'digest', 'digestion',\n",
       "       'dilate', 'discolor', 'discoloured', 'diseas', 'disord',\n",
       "       'disorder', 'disorders', 'displac', 'distens', 'dizzi', 'doctor',\n",
       "       'doe', 'drain', 'drained', 'dri', 'drop', 'drowsi', 'drugs',\n",
       "       'dull', 'dure', 'dysmenorrhea', 'ear', 'ears', 'eczema', 'effect',\n",
       "       'effects', 'elbow', 'element', 'emot', 'encephalopathi',\n",
       "       'endometriosi', 'energi', 'energy', 'enhanc', 'enlarg', 'enzym',\n",
       "       'enzyme', 'epicondylitis', 'episod', 'especi', 'essenti', 'event',\n",
       "       'excess', 'exercis', 'exfoli', 'exocrin', 'extern', 'extra', 'eye',\n",
       "       'eyes', 'face', 'fade', 'fail', 'failur', 'failure', 'fast', 'fat',\n",
       "       'fatigue', 'fats', 'fatti', 'febril', 'feed', 'feel', 'feet',\n",
       "       'fever', 'feverish', 'fibril', 'fine', 'fissur', 'flat', 'flatul',\n",
       "       'flatulence', 'flexibl', 'flow', 'flu', 'fluid', 'flutter',\n",
       "       'focus', 'folic', 'follow', 'food', 'foot', 'form', 'format',\n",
       "       'free', 'fresh', 'friction', 'function', 'fungal', 'fungi',\n",
       "       'fungu', 'gain', 'gener', 'genit', 'gland', 'glaucoma', 'glow',\n",
       "       'gonorrhoea', 'good', 'gout', 'gradual', 'gravi', 'growth',\n",
       "       'guilty', 'gum', 'ha', 'haematopoiesi', 'haemorrhoid',\n",
       "       'haemorrhoidectomi', 'haemorrhoids', 'hair', 'hallucinations',\n",
       "       'hands', 'hard', 'hay', 'head', 'headach', 'headache', 'heal',\n",
       "       'health', 'healthy', 'hear', 'hearing', 'heart', 'heartbeat',\n",
       "       'help', 'hepat', 'herp', 'high', 'hiv', 'hives', 'hormon',\n",
       "       'hospit', 'human', 'hygien', 'hypercalcaemia', 'hyperparathyroid',\n",
       "       'hyperpigment', 'hyperpigmentation', 'hypertens', 'hypertension',\n",
       "       'hyperthyroid', 'hypertrophi', 'hypnosi', 'hypotens',\n",
       "       'hypothyroid', 'hypothyroidism', 'hyroid', 'ibs', 'immun',\n",
       "       'immunodefici', 'improv', 'improvesâ', 'includ', 'incoher',\n",
       "       'incomplet', 'increas', 'indic', 'indigest', 'induc', 'infect',\n",
       "       'infection', 'infections', 'infest', 'inflamm', 'inflammationâ',\n",
       "       'inflammatori', 'influenza', 'infrequ', 'inguinalis', 'inhal',\n",
       "       'inhibitor', 'injuri', 'inner', 'insect', 'insid', 'insomnia',\n",
       "       'insufficiencyâ', 'integr', 'intens', 'interdigit', 'intern',\n",
       "       'interrupt', 'intestin', 'intestinal', 'intoler', 'invas',\n",
       "       'involuntari', 'iodine', 'iritis', 'iron', 'irrit', 'isâ', 'itch',\n",
       "       'itâ', 'jewelleri', 'jock', 'joint', 'kidney', 'kit', 'knees',\n",
       "       'known', 'lack', 'lactat', 'lead', 'learning', 'left', 'level',\n",
       "       'lice', 'life', 'ligaments', 'line', 'lip', 'liquid', 'liv',\n",
       "       'live', 'liver', 'long', 'look', 'lose', 'loss', 'lotion', 'lower',\n",
       "       'lowersâ', 'lowerâ', 'lung', 'lvh', 'mainli', 'maintain', 'major',\n",
       "       'make', 'malari', 'malaria', 'malignancies', 'manag', 'manganese',\n",
       "       'mani', 'manuum', 'marrow', 'medic', 'medicin', 'melanin',\n",
       "       'melasma', 'mellitu', 'memori', 'men', 'mening', 'menopaus',\n",
       "       'mental', 'metabol', 'methyl', 'micronutri', 'migrain', 'migraine',\n",
       "       'mild', 'milk', 'miner', 'minor', 'mistaken', 'mobil', 'moder',\n",
       "       'moderate', 'moistur', 'molybdenum', 'motion', 'movement',\n",
       "       'movements', 'muscl', 'muscular', 'musculoskelet', 'myalgia',\n",
       "       'myasthenia', 'mydriasi', 'myeloid', 'narrow', 'nasal', 'natur',\n",
       "       'nausea', 'need', 'nephropathy', 'nerv', 'nervosa', 'nervousness',\n",
       "       'nettl', 'neuralgia', 'neutral', 'newborns', 'nodular', 'non',\n",
       "       'normal', 'nose', 'nutrient', 'nutrit', 'occur', 'ocular', 'ofâ',\n",
       "       'oili', 'older', 'onli', 'op', 'open', 'oper', 'oral', 'origin',\n",
       "       'osteoarthr', 'osteodystrophy', 'osteoporosi', 'oxid', 'oxidation',\n",
       "       'pah', 'pain', 'pancrea', 'paralys', 'parathyroid', 'parkinson',\n",
       "       'parkinsonâ', 'passag', 'patch', 'patches', 'patient', 'patientsâ',\n",
       "       'pectori', 'pectoris', 'pedis', 'pelvic', 'penil', 'peopl',\n",
       "       'peptid', 'period', 'physic', 'piles', 'pimpl', 'pimple',\n",
       "       'pityriasi', 'polysaccharid', 'portal', 'post', 'potent', 'power',\n",
       "       'pre', 'prednisolon', 'pregnanc', 'prematur', 'preoper',\n",
       "       'prescrib', 'prescript', 'present', 'pressur', 'prevent', 'prexia',\n",
       "       'primari', 'prinzmet', 'problem', 'procedur', 'process',\n",
       "       'proctiti', 'produc', 'product', 'progress', 'prolactin', 'promot',\n",
       "       'properti', 'protect', 'provid', 'pseudo', 'psychosi',\n",
       "       'psychosomat', 'pulmonari', 'pupil', 'pyrexia', 'rabi', 'radicals',\n",
       "       'radiculitis', 'rais', 'rarer', 'rash', 'react', 'reaction',\n",
       "       'receiv', 'recommend', 'red', 'reduc', 'reduct', 'refer',\n",
       "       'regener', 'regimen', 'relat', 'releief', 'relief', 'reliev',\n",
       "       'reliv', 'remov', 'renal', 'repair', 'replac', 'reproduct',\n",
       "       'resist', 'respiratori', 'respond', 'respons', 'restor', 'ret',\n",
       "       'retin', 'rheumat', 'ring', 'ringworm', 'root', 'rosacea', 'scabi',\n",
       "       'scali', 'scalp', 'scar', 'schizophren', 'schizophrenia',\n",
       "       'seborrh', 'sed', 'sedat', 'sens', 'sever', 'shingl', 'short',\n",
       "       'sick', 'sickness', 'silki', 'simpl', 'simplex', 'sinusitis',\n",
       "       'skelet', 'skin', 'skinâ', 'sleep', 'slow', 'small', 'smoke',\n",
       "       'smooth', 'soaps', 'soar', 'soft', 'soften', 'soothen', 'sore',\n",
       "       'sores', 'spasmod', 'speech', 'speed', 'spondyl', 'spot', 'spots',\n",
       "       'sprain', 'spread', 'stabil', 'starch', 'start', 'state',\n",
       "       'steroids', 'stiff', 'stomach', 'stools', 'stop', 'strains',\n",
       "       'strengthen', 'stroke', 'structur', 'substanc', 'suffer', 'sugar',\n",
       "       'sunburn', 'sunscreen', 'suppl', 'supplement', 'support',\n",
       "       'surgeri', 'surgeryâ', 'surgic', 'suspiciousness', 'sweat',\n",
       "       'swell', 'swelling', 'swollen', 'symptom', 'symptomat', 'symptoms',\n",
       "       'syndrom', 'synovi', 'synovitis', 'synthesi', 'synthet',\n",
       "       'syphilis', 'tablet', 'tachycardia', 'task', 'temperature',\n",
       "       'tender', 'tendonitis', 'tens', 'term', 'textur', 'therapi',\n",
       "       'therebi', 'thi', 'thing', 'throat', 'thrombolysi', 'thrush',\n",
       "       'thu', 'thyroid', 'thyroxin', 'time', 'tinea', 'tinnitus', 'tissu',\n",
       "       'tissues', 'toe', 'tone', 'tonsil', 'tonsilitis', 'tonsillectomi',\n",
       "       'toothach', 'toothache', 'topic', 'trace', 'tract', 'transmit',\n",
       "       'transplant', 'trauma', 'traumat', 'travel', 'treat', 'treatment',\n",
       "       'treatsâ', 'treatâ', 'tremor', 'triglycerid', 'tubercular', 'type',\n",
       "       'ulcer', 'unabl', 'unbalanc', 'uncompl', 'uneven', 'unstabl',\n",
       "       'unusu', 'unwant', 'upper', 'uptak', 'urate', 'uretericâ', 'uric',\n",
       "       'urinaryâ', 'use', 'uses', 'usual', 'uveiti', 'vaccin', 'vagin',\n",
       "       'variant', 'varieti', 'ventricular', 'verruca', 'versicolor',\n",
       "       'vertigo', 'vessel', 'viral', 'viru', 'virus', 'vitamin',\n",
       "       'vitamins', 'volume', 'vomit', 'vulgari', 'vulgarisâ', 'wall',\n",
       "       'wart', 'wash', 'weak', 'weaken', 'weight', 'wet', 'whichâ',\n",
       "       'whilst', 'white', 'widen', 'withdrawn', 'womb', 'women', 'work',\n",
       "       'worsen', 'wound', 'wrinkl', 'wrinkles', 'year', 'younger', 'zinc',\n",
       "       'œpancreat'], dtype=object)"
      ]
     },
     "execution_count": 61,
     "metadata": {},
     "output_type": "execute_result"
    }
   ],
   "source": [
    "cv.get_feature_names_out()"
   ]
  },
  {
   "cell_type": "code",
   "execution_count": 63,
   "id": "bd6fb8ec-59a2-42ca-9887-f5fb7f815c21",
   "metadata": {},
   "outputs": [],
   "source": [
    "from sklearn.metrics.pairwise import cosine_similarity"
   ]
  },
  {
   "cell_type": "code",
   "execution_count": 65,
   "id": "f7d5bfba-74aa-478e-a115-d9f914ee6cdc",
   "metadata": {},
   "outputs": [],
   "source": [
    "similarity = cosine_similarity(vectors)"
   ]
  },
  {
   "cell_type": "code",
   "execution_count": 67,
   "id": "b0e16ca5-da43-4391-819d-4fed106a3cff",
   "metadata": {},
   "outputs": [
    {
     "data": {
      "text/plain": [
       "array([0.25197632, 1.        , 0.25660012, ..., 0.19245009, 0.1490712 ,\n",
       "       0.0860663 ])"
      ]
     },
     "execution_count": 67,
     "metadata": {},
     "output_type": "execute_result"
    }
   ],
   "source": [
    "similarity[1]"
   ]
  },
  {
   "cell_type": "code",
   "execution_count": 73,
   "id": "7b311e27-6c96-4a46-b7f7-08a79a22ed5b",
   "metadata": {},
   "outputs": [],
   "source": [
    "def recommendation(medicine):\n",
    "    medicine_index = new_data[new_data['Drug_Name'] == medicine].index[0]\n",
    "    distance = similarity[medicine_index]\n",
    "    medicine_list = sorted(list(enumerate(distance)), reverse=True, key=lambda x : x[1])[1:7]\n",
    "    for i in medicine_list:\n",
    "        print(new_data.iloc[i[0]].Drug_Name)"
   ]
  },
  {
   "cell_type": "code",
   "execution_count": 75,
   "id": "42f873c5-6b3e-4fa8-8f0d-9d932b568b6b",
   "metadata": {},
   "outputs": [
    {
     "name": "stdout",
     "output_type": "stream",
     "text": [
      "ACGEL NANO Gel 15gm\n",
      "Acnehit Gel 15gm\n",
      "Acnelak Soap 75gm\n",
      "Acnetor AD 1% Ointment 15gm\n",
      "Acnetor AD Cream 15Acnetor AD Gel 15gm\n",
      "Acnoff Anti Acne Bar 100gm\n"
     ]
    }
   ],
   "source": [
    "recommendation(\"ACGEL CL NANO Gel 15gm\")"
   ]
  },
  {
   "cell_type": "code",
   "execution_count": 81,
   "id": "32463a8e-7014-425c-9309-8af388365e49",
   "metadata": {},
   "outputs": [],
   "source": [
    "import pickle\n",
    "pickle.dump(new_data.to_dict(), open(\"medicine_dict.pkl\", \"wb\"))\n",
    "pickle.dump(similarity, open(\"similarity.pkl\", \"wb\"))"
   ]
  },
  {
   "cell_type": "code",
   "execution_count": null,
   "id": "da22f95d-30cd-4d0e-9285-0f3b213c4f53",
   "metadata": {},
   "outputs": [],
   "source": []
  }
 ],
 "metadata": {
  "kernelspec": {
   "display_name": "Python 3 (ipykernel)",
   "language": "python",
   "name": "python3"
  },
  "language_info": {
   "codemirror_mode": {
    "name": "ipython",
    "version": 3
   },
   "file_extension": ".py",
   "mimetype": "text/x-python",
   "name": "python",
   "nbconvert_exporter": "python",
   "pygments_lexer": "ipython3",
   "version": "3.12.4"
  }
 },
 "nbformat": 4,
 "nbformat_minor": 5
}
